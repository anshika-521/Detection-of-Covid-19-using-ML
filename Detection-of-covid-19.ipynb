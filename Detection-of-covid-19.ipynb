{
 "cells": [
  {
   "cell_type": "code",
   "execution_count": null,
   "metadata": {},
   "outputs": [],
   "source": [
    "import matplotlib.pyplot as plt\n",
    "import argparse\n",
    "import os\n",
    "from tensorflow.keras.preprocessing.image import ImageDataGenerator\n",
    "from tensorflow.keras.applications import VGG16\n",
    "from tensorflow.keras.layers import AveragePooling2D\n",
    "from tensorflow.keras.layers import Dropout\n",
    "from tensorflow.keras.layers import Flatten\n",
    "from tensorflow.keras.layers import Dense\n",
    "from tensorflow.keras.layers import Input\n",
    "from tensorflow.keras.models import Model\n",
    "from tensorflow.keras.optimizers import Adam\n",
    "from tensorflow.keras.utils import to_categorical\n",
    "from sklearn.preprocessing import LabelBinarizer\n",
    "from sklearn.model_selection import train_test_split"
   ]
  },
  {
   "cell_type": "code",
   "execution_count": null,
   "metadata": {
    "id": "LCFRDN9aT8T8"
   },
   "outputs": [],
   "source": [
    "INIT_LR = 1e-3\n",
    "EPOCHS = 10\n",
    "BS = 8\n",
    "dataset = \"Data\""
   ]
  },
  {
   "cell_type": "code",
   "execution_count": null,
   "metadata": {
    "id": "u4HC5nX2VWig"
   },
   "outputs": [],
   "source": [
    "args={}\n",
    "args[\"dataset\"]=dataset"
   ]
  },
  {
   "cell_type": "code",
   "execution_count": null,
   "metadata": {
    "id": "2qTkB9DPV3tH"
   },
   "outputs": [],
   "source": [
    "import numpy as np\n",
    "import cv2\n",
    "from imutils import paths\n",
    "iPaths = list(paths.list_images(args[\"dataset\"]))  #image paths\n",
    "data = []\n",
    "labels = []\n",
    "for iPath in iPaths:\n",
    "    label = iPath.split(os.path.sep)[-2]   #split the image paths\n",
    "    image = cv2.imread(iPath)\n",
    "    image = cv2.cvtColor(image, cv2.COLOR_BGR2RGB) #Convert images into RGB Channel\n",
    "    image = cv2.resize(image, (224, 224))  #Resizing the images\n",
    "    data.append(image)\n",
    "    labels.append(label)\n",
    "data = np.array(data) / 255.0\n",
    "labels = np.array(labels)"
   ]
  },
  {
   "cell_type": "code",
   "execution_count": null,
   "metadata": {
    "id": "p4HoqCzYV44t"
   },
   "outputs": [],
   "source": [
    "import os\n",
    "Data_Dir = \"Data//\""
   ]
  },
  {
   "cell_type": "code",
   "execution_count": null,
   "metadata": {
    "id": "vDFb2aBqV997"
   },
   "outputs": [],
   "source": [
    "Cimages = os.listdir(Data_Dir+\"Covid\")\n",
    "Nimages = os.listdir(Data_Dir+\"Normal\")"
   ]
  },
  {
   "cell_type": "code",
   "execution_count": null,
   "metadata": {
    "id": "Ketn30BDWERN"
   },
   "outputs": [],
   "source": [
    "import matplotlib.pyplot as plt\n",
    "import cv2\n",
    "import skimage\n",
    "from skimage.transform import resize\n",
    "import numpy as np\n",
    "def plotter(i):\n",
    "    normal = cv2.imread(Data_Dir+\"Normal//\"+Nimages[i])\n",
    "    normal = skimage.transform.resize(normal, (150, 150, 3))\n",
    "    coronavirus = cv2.imread(Data_Dir+\"Covid//\"+Cimages[i])\n",
    "    coronavirus = skimage.transform.resize(coronavirus, (150, 150, 3) , mode = 'reflect')\n",
    "    pair = np.concatenate((normal, coronavirus), axis=1)\n",
    "    print(\"Normal Chest X-ray Vs Covid-19 Chest X-ray\")\n",
    "    plt.figure(figsize=(10,5))\n",
    "    plt.imshow(pair)\n",
    "    plt.show()\n",
    "for i in range(0,5):\n",
    "    plotter(i)"
   ]
  },
  {
   "cell_type": "code",
   "execution_count": null,
   "metadata": {
    "id": "qMrcRWqRZzfz"
   },
   "outputs": [],
   "source": [
    "LB = LabelBinarizer()  #Initialize label binarizer\n",
    "labels = LB.fit_transform(labels)\n",
    "labels = to_categorical(labels); print(labels)\n",
    "(X_train, X_test, Y_train, Y_test) = train_test_split(data, labels,\n",
    "    test_size=0.40, stratify=labels, random_state=42)\n",
    "trainAug = ImageDataGenerator(\n",
    "    rotation_range=15,\n",
    "    fill_mode=\"nearest\")"
   ]
  },
  {
   "cell_type": "code",
   "execution_count": null,
   "metadata": {
    "id": "fGE0r9z7Z3fj"
   },
   "outputs": [],
   "source": [
    "bModel = VGG16(weights=\"imagenet\", include_top=False,input_tensor=Input(shape=(224, 224, 3)))  #base_Model\n",
    "hModel = bModel.output #head_Model\n",
    "hModel = AveragePooling2D(pool_size=(4, 4))(hModel)\n",
    "hModel = Flatten(name=\"flatten\")(hModel)\n",
    "hModel = Dense(64, activation=\"relu\")(hModel)\n",
    "hModel = Dropout(0.5)(hModel)\n",
    "hModel = Dense(2, activation=\"softmax\")(hModel)\n",
    "model = Model(inputs=bModel.input, outputs=hModel)\n",
    "for layer in bModel.layers:\n",
    "    layer.trainable = False"
   ]
  },
  {
   "cell_type": "code",
   "execution_count": null,
   "metadata": {
    "id": "uncOpsqMZ7Jm"
   },
   "outputs": [],
   "source": [
    "X_train.shape,X_test.shape,Y_train.shape,Y_test.shape"
   ]
  },
  {
   "cell_type": "code",
   "execution_count": null,
   "metadata": {
    "id": "aLxxIDMdZ9bR"
   },
   "outputs": [],
   "source": [
    "\n",
    "W_grid = 4 #width\n",
    "L_grid = 4 #lenth\n",
    "fig, axes = plt.subplots(L_grid, W_grid, figsize = (25, 25)) #subplots\n",
    "axes = axes.ravel()\n",
    "n_training = len(X_train)\n",
    "for i in np.arange(0, L_grid * W_grid):\n",
    "    index = np.random.randint(0, n_training) # pick a random number\n",
    "    axes[i].imshow(X_train[index])\n",
    "    axes[i].set_title(Y_train[index])\n",
    "    axes[i].axis('off')\n",
    "    \n",
    "plt.subplots_adjust(hspace = 0.4)"
   ]
  },
  {
   "cell_type": "code",
   "execution_count": null,
   "metadata": {
    "id": "NX57LYanaDxi"
   },
   "outputs": [],
   "source": [
    "opt = Adam(learning_rate=INIT_LR, decay=INIT_LR / EPOCHS)\n",
    "model.compile(loss=\"binary_crossentropy\", optimizer=opt,metrics=[\"accuracy\"])\n",
    "print(\"Compiling Starts\")\n",
    "R = model.fit(\n",
    "    trainAug.flow(X_train, Y_train, batch_size=BS),\n",
    "    steps_per_epoch=len(X_train) // BS,\n",
    "    validation_data=(X_test, Y_test),\n",
    "    validation_steps=len(X_test) // BS,\n",
    "    epochs=EPOCHS)"
   ]
  },
  {
   "cell_type": "code",
   "execution_count": null,
   "metadata": {
    "id": "GA5AgkeRaEqg"
   },
   "outputs": [],
   "source": [
    "L = 6\n",
    "W = 6\n",
    "fig, axes = plt.subplots(L, W, figsize = (12, 12))\n",
    "axes = axes.ravel()\n",
    "y_pred = model.predict(X_test, batch_size=BS)\n",
    "for i in np.arange(0,L*W):\n",
    "    axes[i].imshow(X_test[i])\n",
    "    axes[i].set_title('Prediction = {}\\n True = {}'.format(y_pred.argmax(axis=1)[i], Y_test.argmax(axis=1)[i]))\n",
    "    axes[i].axis('off')\n",
    "\n",
    "plt.subplots_adjust(wspace = 1, hspace=1) "
   ]
  },
  {
   "cell_type": "code",
   "execution_count": null,
   "metadata": {
    "id": "LgL_a9-3aJq0"
   },
   "outputs": [],
   "source": [
    "from sklearn.metrics import classification_report\n",
    "y_pred = model.predict(X_test, batch_size=BS)\n",
    "y_pred = np.argmax(y_pred, axis=1)\n",
    "print(classification_report(Y_test.argmax(axis=1), y_pred,target_names=LB.classes_))"
   ]
  },
  {
   "cell_type": "code",
   "execution_count": null,
   "metadata": {
    "id": "MDfuqFKZaMbb"
   },
   "outputs": [],
   "source": [
    "from sklearn.metrics import accuracy_score\n",
    "accuracy_score(Y_test.argmax(axis=1),y_pred)"
   ]
  },
  {
   "cell_type": "code",
   "execution_count": null,
   "metadata": {
    "id": "G4q_RvfLaO4j"
   },
   "outputs": [],
   "source": [
    "from sklearn.metrics import confusion_matrix\n",
    "cm = confusion_matrix(Y_test.argmax(axis=1), y_pred)\n",
    "total = sum(sum(cm))\n",
    "acc = (cm[0, 0] + cm[1, 1]) / total\n",
    "sensitivity = cm[0, 0] / (cm[0, 0] + cm[0, 1])\n",
    "specificity = cm[1, 1] / (cm[1, 0] + cm[1, 1])\n",
    "print(cm)\n",
    "print(\"acc: {:.4f}\".format(acc))\n",
    "print(\"sensitivity: {:.4f}\".format(sensitivity))\n",
    "print(\"specificity: {:.4f}\".format(specificity))"
   ]
  },
  {
   "cell_type": "code",
   "execution_count": null,
   "metadata": {
    "id": "0DG1tlgPaUF9"
   },
   "outputs": [],
   "source": [
    "# plot the loss\n",
    "plt.plot(R.history['loss'], label='train loss')\n",
    "plt.plot(R.history['val_loss'], label='val loss')\n",
    "plt.legend()\n",
    "plt.show()\n",
    "plt.savefig('LossVal_loss')\n",
    "\n",
    "# plot the accuracy\n",
    "plt.plot(R.history['accuracy'], label='train acc')\n",
    "plt.plot(R.history['val_accuracy'], label='val acc')\n",
    "plt.legend()\n",
    "plt.show()"
   ]
  },
  {
   "cell_type": "code",
   "execution_count": null,
   "metadata": {
    "id": "31uiC7JwaYtm"
   },
   "outputs": [],
   "source": [
    "model.save('Covid_model.h5')"
   ]
  },
  {
   "cell_type": "code",
   "execution_count": null,
   "metadata": {
    "id": "3xKuUxSkaZ7u"
   },
   "outputs": [],
   "source": [
    "import tensorflow as tf \n",
    "from keras.preprocessing import image\n",
    "#from keras.models import load_model\n",
    "model = tf.keras.models.load_model('Covid_model.h5')\n",
    "from keras.applications.vgg16 import preprocess_input\n",
    "from PIL import ImageTk, Image \n",
    "\n",
    "def size_1():\n",
    "   text.config(font=('Helvatical bold',20))\n",
    "\n",
    "def clicked():\n",
    "    img_add = txt.get()\n",
    "    img = image.load_img(img_add, target_size=(224, 224))\n",
    "    x = image.img_to_array(img)\n",
    "    x = np.expand_dims(x, axis=0)\n",
    "    img_data = preprocess_input(x)\n",
    "    classes = model.predict(img_data)\n",
    "    New_pred = np.argmax(classes, axis=1)\n",
    "    if New_pred==[1]:\n",
    "      l2.configure(text='Normal')\n",
    "    else:\n",
    "      l2.configure(text='Corona')\n",
    "    # Create a photoimage object of the image in the path\n",
    "    image1 = PIL.Image.open(img_add)\n",
    "    image1 = image1.resize((250, 300))\n",
    "    test = ImageTk.PhotoImage(image1)\n",
    "\n",
    "    label1 = tkinter.Label(image=test)\n",
    "    label1.image = test\n",
    "\n",
    "    # Position image\n",
    "    label1.place(relx=0.7,rely=0.9,anchor='s')\n",
    "    \n",
    "    \n",
    "\n",
    "import tkinter\n",
    "from tkinter import *\n",
    "window=tkinter.Tk()\n",
    "window.title(\"Covid Detection Project by Aditi, Anoushka & Anshika\")\n",
    "label=tkinter.Label(window, text=\" Enter your image path-\", font=(40))\n",
    "label.config(font=('Times',25))\n",
    "label.pack()\n",
    "\n",
    "l3=tkinter.Label(window, text=\" Prediction :\")\n",
    "l3.place(relx = 0.1, rely = 0.5, anchor = 's')\n",
    "l3.config(font=('Times',15,'bold'))\n",
    "l4=tkinter.Label(window, text=\" Xray :\")\n",
    "l4.place(relx = 0.5, rely = 0.5, anchor = 's')\n",
    "l4.config(font=('Times',15,'bold'))\n",
    "l2=tkinter.Label(window)\n",
    "l2.place(relx = 0.2, rely = 0.5, anchor = 's') \n",
    "l2.config(fg=\"Red\",font=('Times',15))\n",
    "\n",
    "window.geometry('1000x600')\n",
    "    \n",
    "txt=Entry(window,width=70)\n",
    "txt.place(relx=0.5,rely=0.2,anchor='center')\n",
    "\n",
    "bt= Button(window, text = 'Enter',bg=\"black\",fg=\"white\",font=('Times') ,command=clicked)\n",
    "bt.place(relx=0.5,rely=0.3,anchor='center')\n",
    "\n",
    "window.mainloop()\n",
    "\n"
   ]
  }
 ],
 "metadata": {
  "colab": {
   "collapsed_sections": [],
   "name": "ML_proj.ipynb",
   "provenance": []
  },
  "kernelspec": {
   "display_name": "Python 3",
   "language": "python",
   "name": "python3"
  },
  "language_info": {
   "codemirror_mode": {
    "name": "ipython",
    "version": 3
   },
   "file_extension": ".py",
   "mimetype": "text/x-python",
   "name": "python",
   "nbconvert_exporter": "python",
   "pygments_lexer": "ipython3",
   "version": "3.8.2rc2"
  }
 },
 "nbformat": 4,
 "nbformat_minor": 1
}
